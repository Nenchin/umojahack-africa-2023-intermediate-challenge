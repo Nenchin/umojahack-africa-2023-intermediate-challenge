{
 "cells": [
  {
   "cell_type": "code",
   "execution_count": 59,
   "id": "6cebe684",
   "metadata": {},
   "outputs": [],
   "source": [
    "import pandas as pd\n",
    "import numpy as np\n",
    "import seaborn as sns\n",
    "import matplotlib.pyplot as plt\n",
    "%matplotlib inline\n",
    "from sklearn.preprocessing import StandardScaler\n",
    "from sklearn.model_selection import train_test_split\n",
    "from sklearn.metrics import classification_report\n",
    "from sklearn.ensemble import RandomForestClassifier, ExtraTreesRegressor\n",
    "from xgboost import XGBClassifier\n",
    "from sklearn.svm import SVC\n",
    "from sklearn.tree import DecisionTreeClassifier\n",
    "from tensorflow.keras.models import Sequential\n",
    "from tensorflow.keras.layers import Conv2D, Dense, Flatten, MaxPooling2D\n",
    "from tensorflow.keras.layers import Dropout, Activation"
   ]
  },
  {
   "cell_type": "code",
   "execution_count": 4,
   "id": "64eb36c1",
   "metadata": {},
   "outputs": [
    {
     "name": "stdout",
     "output_type": "stream",
     "text": [
      "The shape of the train dataset is (8908, 16)\n",
      "The shape of the test dataset is (3818, 15)\n"
     ]
    }
   ],
   "source": [
    "train_df = pd.read_csv(\"Train.csv\")\n",
    "test_df = pd.read_csv(\"Test.csv\")\n",
    "print(f\"The shape of the train dataset is {train_df.shape}\")\n",
    "print(f\"The shape of the test dataset is {test_df.shape}\")"
   ]
  },
  {
   "cell_type": "code",
   "execution_count": 5,
   "id": "f70dd147",
   "metadata": {},
   "outputs": [
    {
     "data": {
      "text/html": [
       "<div>\n",
       "<style scoped>\n",
       "    .dataframe tbody tr th:only-of-type {\n",
       "        vertical-align: middle;\n",
       "    }\n",
       "\n",
       "    .dataframe tbody tr th {\n",
       "        vertical-align: top;\n",
       "    }\n",
       "\n",
       "    .dataframe thead th {\n",
       "        text-align: right;\n",
       "    }\n",
       "</style>\n",
       "<table border=\"1\" class=\"dataframe\">\n",
       "  <thead>\n",
       "    <tr style=\"text-align: right;\">\n",
       "      <th></th>\n",
       "      <th>ID</th>\n",
       "      <th>I/O Data Operations</th>\n",
       "      <th>I/O Data Bytes</th>\n",
       "      <th>Number of subprocesses</th>\n",
       "      <th>Time on processor</th>\n",
       "      <th>Disk Reading/sec</th>\n",
       "      <th>Disc Writing/sec</th>\n",
       "      <th>Bytes Sent/sent</th>\n",
       "      <th>Received Bytes (HTTP)</th>\n",
       "      <th>Network packets sent</th>\n",
       "      <th>Network packets received</th>\n",
       "      <th>Pages Read/sec</th>\n",
       "      <th>Pages Input/sec</th>\n",
       "      <th>Page Errors/sec</th>\n",
       "      <th>Confirmed byte radius</th>\n",
       "      <th>Label</th>\n",
       "    </tr>\n",
       "  </thead>\n",
       "  <tbody>\n",
       "    <tr>\n",
       "      <th>0</th>\n",
       "      <td>ID_4W8AP96UO6</td>\n",
       "      <td>114.798900</td>\n",
       "      <td>3790.450939</td>\n",
       "      <td>28.0</td>\n",
       "      <td>0.427078</td>\n",
       "      <td>6.162365</td>\n",
       "      <td>21.220403</td>\n",
       "      <td>58.492773</td>\n",
       "      <td>63.959387</td>\n",
       "      <td>0.621206</td>\n",
       "      <td>0.521813</td>\n",
       "      <td>24.624612</td>\n",
       "      <td>0.0</td>\n",
       "      <td>1001.533430</td>\n",
       "      <td>27.190843</td>\n",
       "      <td>1</td>\n",
       "    </tr>\n",
       "    <tr>\n",
       "      <th>1</th>\n",
       "      <td>ID_UD3TM0ZYND</td>\n",
       "      <td>14.154240</td>\n",
       "      <td>5182.451722</td>\n",
       "      <td>28.0</td>\n",
       "      <td>0.138876</td>\n",
       "      <td>5.399498</td>\n",
       "      <td>0.000000</td>\n",
       "      <td>22.886762</td>\n",
       "      <td>29.508369</td>\n",
       "      <td>0.422183</td>\n",
       "      <td>0.444403</td>\n",
       "      <td>0.044440</td>\n",
       "      <td>0.0</td>\n",
       "      <td>1089.121009</td>\n",
       "      <td>30.150941</td>\n",
       "      <td>0</td>\n",
       "    </tr>\n",
       "    <tr>\n",
       "      <th>2</th>\n",
       "      <td>ID_XAG1HC0HWM</td>\n",
       "      <td>0.044444</td>\n",
       "      <td>120.821253</td>\n",
       "      <td>28.0</td>\n",
       "      <td>0.000000</td>\n",
       "      <td>1.577765</td>\n",
       "      <td>0.000000</td>\n",
       "      <td>11.733239</td>\n",
       "      <td>12.888786</td>\n",
       "      <td>0.177776</td>\n",
       "      <td>0.155554</td>\n",
       "      <td>0.044444</td>\n",
       "      <td>0.0</td>\n",
       "      <td>322.464081</td>\n",
       "      <td>28.163287</td>\n",
       "      <td>0</td>\n",
       "    </tr>\n",
       "    <tr>\n",
       "      <th>3</th>\n",
       "      <td>ID_CEXD05IR09</td>\n",
       "      <td>31.369916</td>\n",
       "      <td>127228.251100</td>\n",
       "      <td>31.0</td>\n",
       "      <td>0.523750</td>\n",
       "      <td>15.981107</td>\n",
       "      <td>5.356671</td>\n",
       "      <td>602.125436</td>\n",
       "      <td>6976.986795</td>\n",
       "      <td>3.311801</td>\n",
       "      <td>5.756755</td>\n",
       "      <td>5.623394</td>\n",
       "      <td>0.0</td>\n",
       "      <td>12015.169690</td>\n",
       "      <td>34.204404</td>\n",
       "      <td>0</td>\n",
       "    </tr>\n",
       "    <tr>\n",
       "      <th>4</th>\n",
       "      <td>ID_X6E97FT8IF</td>\n",
       "      <td>5.046181</td>\n",
       "      <td>1091.620117</td>\n",
       "      <td>25.0</td>\n",
       "      <td>0.069468</td>\n",
       "      <td>1.356022</td>\n",
       "      <td>0.000000</td>\n",
       "      <td>16.138887</td>\n",
       "      <td>13.271234</td>\n",
       "      <td>0.155609</td>\n",
       "      <td>0.133379</td>\n",
       "      <td>0.000000</td>\n",
       "      <td>0.0</td>\n",
       "      <td>550.989619</td>\n",
       "      <td>31.466889</td>\n",
       "      <td>1</td>\n",
       "    </tr>\n",
       "  </tbody>\n",
       "</table>\n",
       "</div>"
      ],
      "text/plain": [
       "              ID  I/O Data Operations   I/O Data Bytes  \\\n",
       "0  ID_4W8AP96UO6           114.798900      3790.450939   \n",
       "1  ID_UD3TM0ZYND            14.154240      5182.451722   \n",
       "2  ID_XAG1HC0HWM             0.044444       120.821253   \n",
       "3  ID_CEXD05IR09            31.369916    127228.251100   \n",
       "4  ID_X6E97FT8IF             5.046181      1091.620117   \n",
       "\n",
       "   Number of subprocesses  Time on processor  Disk Reading/sec  \\\n",
       "0                    28.0           0.427078          6.162365   \n",
       "1                    28.0           0.138876          5.399498   \n",
       "2                    28.0           0.000000          1.577765   \n",
       "3                    31.0           0.523750         15.981107   \n",
       "4                    25.0           0.069468          1.356022   \n",
       "\n",
       "   Disc Writing/sec  Bytes Sent/sent  Received Bytes (HTTP)  \\\n",
       "0         21.220403        58.492773              63.959387   \n",
       "1          0.000000        22.886762              29.508369   \n",
       "2          0.000000        11.733239              12.888786   \n",
       "3          5.356671       602.125436            6976.986795   \n",
       "4          0.000000        16.138887              13.271234   \n",
       "\n",
       "   Network packets sent  Network packets received  Pages Read/sec  \\\n",
       "0              0.621206                  0.521813       24.624612   \n",
       "1              0.422183                  0.444403        0.044440   \n",
       "2              0.177776                  0.155554        0.044444   \n",
       "3              3.311801                  5.756755        5.623394   \n",
       "4              0.155609                  0.133379        0.000000   \n",
       "\n",
       "   Pages Input/sec  Page Errors/sec  Confirmed byte radius  Label  \n",
       "0              0.0      1001.533430              27.190843      1  \n",
       "1              0.0      1089.121009              30.150941      0  \n",
       "2              0.0       322.464081              28.163287      0  \n",
       "3              0.0     12015.169690              34.204404      0  \n",
       "4              0.0       550.989619              31.466889      1  "
      ]
     },
     "execution_count": 5,
     "metadata": {},
     "output_type": "execute_result"
    }
   ],
   "source": [
    "train_df.head()"
   ]
  },
  {
   "cell_type": "code",
   "execution_count": 6,
   "id": "53898128",
   "metadata": {},
   "outputs": [
    {
     "name": "stdout",
     "output_type": "stream",
     "text": [
      "<class 'pandas.core.frame.DataFrame'>\n",
      "RangeIndex: 8908 entries, 0 to 8907\n",
      "Data columns (total 16 columns):\n",
      " #   Column                    Non-Null Count  Dtype  \n",
      "---  ------                    --------------  -----  \n",
      " 0   ID                        8908 non-null   object \n",
      " 1   I/O Data Operations       8908 non-null   float64\n",
      " 2    I/O Data Bytes           8908 non-null   float64\n",
      " 3   Number of subprocesses    8908 non-null   float64\n",
      " 4   Time on processor         8908 non-null   float64\n",
      " 5   Disk Reading/sec          8908 non-null   float64\n",
      " 6   Disc Writing/sec          8908 non-null   float64\n",
      " 7   Bytes Sent/sent           8908 non-null   float64\n",
      " 8   Received Bytes (HTTP)     8908 non-null   float64\n",
      " 9   Network packets sent      8908 non-null   float64\n",
      " 10  Network packets received  8908 non-null   float64\n",
      " 11  Pages Read/sec            8908 non-null   float64\n",
      " 12  Pages Input/sec           8908 non-null   float64\n",
      " 13  Page Errors/sec           8908 non-null   float64\n",
      " 14  Confirmed byte radius     8908 non-null   float64\n",
      " 15  Label                     8908 non-null   int64  \n",
      "dtypes: float64(14), int64(1), object(1)\n",
      "memory usage: 1.1+ MB\n"
     ]
    }
   ],
   "source": [
    "train_df.info()"
   ]
  },
  {
   "cell_type": "code",
   "execution_count": 7,
   "id": "cdd51934",
   "metadata": {},
   "outputs": [
    {
     "data": {
      "text/html": [
       "<div>\n",
       "<style scoped>\n",
       "    .dataframe tbody tr th:only-of-type {\n",
       "        vertical-align: middle;\n",
       "    }\n",
       "\n",
       "    .dataframe tbody tr th {\n",
       "        vertical-align: top;\n",
       "    }\n",
       "\n",
       "    .dataframe thead th {\n",
       "        text-align: right;\n",
       "    }\n",
       "</style>\n",
       "<table border=\"1\" class=\"dataframe\">\n",
       "  <thead>\n",
       "    <tr style=\"text-align: right;\">\n",
       "      <th></th>\n",
       "      <th>ID</th>\n",
       "      <th>I/O Data Operations</th>\n",
       "      <th>I/O Data Bytes</th>\n",
       "      <th>Number of subprocesses</th>\n",
       "      <th>Time on processor</th>\n",
       "      <th>Disk Reading/sec</th>\n",
       "      <th>Disc Writing/sec</th>\n",
       "      <th>Bytes Sent/sent</th>\n",
       "      <th>Received Bytes (HTTP)</th>\n",
       "      <th>Network packets sent</th>\n",
       "      <th>Network packets received</th>\n",
       "      <th>Pages Read/sec</th>\n",
       "      <th>Pages Input/sec</th>\n",
       "      <th>Page Errors/sec</th>\n",
       "      <th>Confirmed byte radius</th>\n",
       "    </tr>\n",
       "  </thead>\n",
       "  <tbody>\n",
       "    <tr>\n",
       "      <th>0</th>\n",
       "      <td>ID_L7RNFK5JC9</td>\n",
       "      <td>32.709430</td>\n",
       "      <td>121124.141400</td>\n",
       "      <td>30.407359</td>\n",
       "      <td>0.496719</td>\n",
       "      <td>3.999064</td>\n",
       "      <td>0.000000</td>\n",
       "      <td>335.565884</td>\n",
       "      <td>737.338490</td>\n",
       "      <td>1.844013</td>\n",
       "      <td>1.910664</td>\n",
       "      <td>0.311038</td>\n",
       "      <td>0.0</td>\n",
       "      <td>726.318848</td>\n",
       "      <td>20.008686</td>\n",
       "    </tr>\n",
       "    <tr>\n",
       "      <th>1</th>\n",
       "      <td>ID_KUTY5K1G5F</td>\n",
       "      <td>2.065990</td>\n",
       "      <td>2029.713475</td>\n",
       "      <td>29.000000</td>\n",
       "      <td>0.000000</td>\n",
       "      <td>3.665467</td>\n",
       "      <td>0.000000</td>\n",
       "      <td>63.845771</td>\n",
       "      <td>41.119875</td>\n",
       "      <td>0.733093</td>\n",
       "      <td>0.577589</td>\n",
       "      <td>0.044430</td>\n",
       "      <td>0.0</td>\n",
       "      <td>385.473839</td>\n",
       "      <td>33.015399</td>\n",
       "    </tr>\n",
       "    <tr>\n",
       "      <th>2</th>\n",
       "      <td>ID_H6PJWKU831</td>\n",
       "      <td>114.524684</td>\n",
       "      <td>3888.550764</td>\n",
       "      <td>28.000000</td>\n",
       "      <td>0.486075</td>\n",
       "      <td>0.777719</td>\n",
       "      <td>0.199985</td>\n",
       "      <td>11.354698</td>\n",
       "      <td>11.332477</td>\n",
       "      <td>0.177764</td>\n",
       "      <td>0.133323</td>\n",
       "      <td>0.000000</td>\n",
       "      <td>0.0</td>\n",
       "      <td>504.828540</td>\n",
       "      <td>30.091141</td>\n",
       "    </tr>\n",
       "    <tr>\n",
       "      <th>3</th>\n",
       "      <td>ID_DNQXNVTXHE</td>\n",
       "      <td>27.036810</td>\n",
       "      <td>5581.324782</td>\n",
       "      <td>25.000000</td>\n",
       "      <td>0.314968</td>\n",
       "      <td>1.789015</td>\n",
       "      <td>0.000000</td>\n",
       "      <td>44.297028</td>\n",
       "      <td>13.430214</td>\n",
       "      <td>0.302369</td>\n",
       "      <td>0.125987</td>\n",
       "      <td>0.000000</td>\n",
       "      <td>0.0</td>\n",
       "      <td>465.950312</td>\n",
       "      <td>22.211252</td>\n",
       "    </tr>\n",
       "    <tr>\n",
       "      <th>4</th>\n",
       "      <td>ID_8CRTF1BJOD</td>\n",
       "      <td>1.177267</td>\n",
       "      <td>176.634467</td>\n",
       "      <td>28.000000</td>\n",
       "      <td>0.000000</td>\n",
       "      <td>1.710369</td>\n",
       "      <td>0.000000</td>\n",
       "      <td>88.161746</td>\n",
       "      <td>57.508380</td>\n",
       "      <td>0.888503</td>\n",
       "      <td>0.777440</td>\n",
       "      <td>0.000000</td>\n",
       "      <td>0.0</td>\n",
       "      <td>771.665166</td>\n",
       "      <td>31.032570</td>\n",
       "    </tr>\n",
       "  </tbody>\n",
       "</table>\n",
       "</div>"
      ],
      "text/plain": [
       "              ID  I/O Data Operations   I/O Data Bytes  \\\n",
       "0  ID_L7RNFK5JC9            32.709430    121124.141400   \n",
       "1  ID_KUTY5K1G5F             2.065990      2029.713475   \n",
       "2  ID_H6PJWKU831           114.524684      3888.550764   \n",
       "3  ID_DNQXNVTXHE            27.036810      5581.324782   \n",
       "4  ID_8CRTF1BJOD             1.177267       176.634467   \n",
       "\n",
       "   Number of subprocesses  Time on processor  Disk Reading/sec  \\\n",
       "0               30.407359           0.496719          3.999064   \n",
       "1               29.000000           0.000000          3.665467   \n",
       "2               28.000000           0.486075          0.777719   \n",
       "3               25.000000           0.314968          1.789015   \n",
       "4               28.000000           0.000000          1.710369   \n",
       "\n",
       "   Disc Writing/sec  Bytes Sent/sent  Received Bytes (HTTP)  \\\n",
       "0          0.000000       335.565884             737.338490   \n",
       "1          0.000000        63.845771              41.119875   \n",
       "2          0.199985        11.354698              11.332477   \n",
       "3          0.000000        44.297028              13.430214   \n",
       "4          0.000000        88.161746              57.508380   \n",
       "\n",
       "   Network packets sent  Network packets received  Pages Read/sec  \\\n",
       "0              1.844013                  1.910664        0.311038   \n",
       "1              0.733093                  0.577589        0.044430   \n",
       "2              0.177764                  0.133323        0.000000   \n",
       "3              0.302369                  0.125987        0.000000   \n",
       "4              0.888503                  0.777440        0.000000   \n",
       "\n",
       "   Pages Input/sec  Page Errors/sec  Confirmed byte radius  \n",
       "0              0.0       726.318848              20.008686  \n",
       "1              0.0       385.473839              33.015399  \n",
       "2              0.0       504.828540              30.091141  \n",
       "3              0.0       465.950312              22.211252  \n",
       "4              0.0       771.665166              31.032570  "
      ]
     },
     "execution_count": 7,
     "metadata": {},
     "output_type": "execute_result"
    }
   ],
   "source": [
    "test_df.head()"
   ]
  },
  {
   "cell_type": "code",
   "execution_count": 8,
   "id": "f7eb79f8",
   "metadata": {},
   "outputs": [
    {
     "name": "stdout",
     "output_type": "stream",
     "text": [
      "<class 'pandas.core.frame.DataFrame'>\n",
      "RangeIndex: 3818 entries, 0 to 3817\n",
      "Data columns (total 15 columns):\n",
      " #   Column                    Non-Null Count  Dtype  \n",
      "---  ------                    --------------  -----  \n",
      " 0   ID                        3818 non-null   object \n",
      " 1   I/O Data Operations       3818 non-null   float64\n",
      " 2    I/O Data Bytes           3818 non-null   float64\n",
      " 3   Number of subprocesses    3818 non-null   float64\n",
      " 4   Time on processor         3818 non-null   float64\n",
      " 5   Disk Reading/sec          3818 non-null   float64\n",
      " 6   Disc Writing/sec          3818 non-null   float64\n",
      " 7   Bytes Sent/sent           3818 non-null   float64\n",
      " 8   Received Bytes (HTTP)     3818 non-null   float64\n",
      " 9   Network packets sent      3818 non-null   float64\n",
      " 10  Network packets received  3818 non-null   float64\n",
      " 11  Pages Read/sec            3818 non-null   float64\n",
      " 12  Pages Input/sec           3818 non-null   float64\n",
      " 13  Page Errors/sec           3818 non-null   float64\n",
      " 14  Confirmed byte radius     3818 non-null   float64\n",
      "dtypes: float64(14), object(1)\n",
      "memory usage: 447.5+ KB\n"
     ]
    }
   ],
   "source": [
    "test_df.info()"
   ]
  },
  {
   "cell_type": "code",
   "execution_count": 9,
   "id": "54164cb4",
   "metadata": {},
   "outputs": [
    {
     "data": {
      "text/html": [
       "<div>\n",
       "<style scoped>\n",
       "    .dataframe tbody tr th:only-of-type {\n",
       "        vertical-align: middle;\n",
       "    }\n",
       "\n",
       "    .dataframe tbody tr th {\n",
       "        vertical-align: top;\n",
       "    }\n",
       "\n",
       "    .dataframe thead th {\n",
       "        text-align: right;\n",
       "    }\n",
       "</style>\n",
       "<table border=\"1\" class=\"dataframe\">\n",
       "  <thead>\n",
       "    <tr style=\"text-align: right;\">\n",
       "      <th></th>\n",
       "      <th>I/O Data Operations</th>\n",
       "      <th>I/O Data Bytes</th>\n",
       "      <th>Number of subprocesses</th>\n",
       "      <th>Time on processor</th>\n",
       "      <th>Disk Reading/sec</th>\n",
       "      <th>Disc Writing/sec</th>\n",
       "      <th>Bytes Sent/sent</th>\n",
       "      <th>Received Bytes (HTTP)</th>\n",
       "      <th>Network packets sent</th>\n",
       "      <th>Network packets received</th>\n",
       "      <th>Pages Read/sec</th>\n",
       "      <th>Pages Input/sec</th>\n",
       "      <th>Page Errors/sec</th>\n",
       "      <th>Confirmed byte radius</th>\n",
       "    </tr>\n",
       "  </thead>\n",
       "  <tbody>\n",
       "    <tr>\n",
       "      <th>count</th>\n",
       "      <td>8908.000000</td>\n",
       "      <td>8.908000e+03</td>\n",
       "      <td>8908.000000</td>\n",
       "      <td>8908.000000</td>\n",
       "      <td>8908.000000</td>\n",
       "      <td>8908.000000</td>\n",
       "      <td>8908.000000</td>\n",
       "      <td>8.908000e+03</td>\n",
       "      <td>8908.000000</td>\n",
       "      <td>8908.000000</td>\n",
       "      <td>8908.000000</td>\n",
       "      <td>8908.000000</td>\n",
       "      <td>8908.000000</td>\n",
       "      <td>8908.000000</td>\n",
       "    </tr>\n",
       "    <tr>\n",
       "      <th>mean</th>\n",
       "      <td>36.429205</td>\n",
       "      <td>1.135564e+05</td>\n",
       "      <td>29.811900</td>\n",
       "      <td>0.496405</td>\n",
       "      <td>5.353260</td>\n",
       "      <td>1.046153</td>\n",
       "      <td>559.546628</td>\n",
       "      <td>1.655804e+04</td>\n",
       "      <td>4.795485</td>\n",
       "      <td>12.625792</td>\n",
       "      <td>0.988036</td>\n",
       "      <td>0.004177</td>\n",
       "      <td>2779.178084</td>\n",
       "      <td>28.436192</td>\n",
       "    </tr>\n",
       "    <tr>\n",
       "      <th>std</th>\n",
       "      <td>75.884647</td>\n",
       "      <td>4.896846e+05</td>\n",
       "      <td>5.691411</td>\n",
       "      <td>1.593626</td>\n",
       "      <td>19.286690</td>\n",
       "      <td>15.667814</td>\n",
       "      <td>1939.745234</td>\n",
       "      <td>9.042803e+04</td>\n",
       "      <td>20.797585</td>\n",
       "      <td>61.246541</td>\n",
       "      <td>12.495768</td>\n",
       "      <td>0.082923</td>\n",
       "      <td>4996.003166</td>\n",
       "      <td>3.970140</td>\n",
       "    </tr>\n",
       "    <tr>\n",
       "      <th>min</th>\n",
       "      <td>0.000000</td>\n",
       "      <td>0.000000e+00</td>\n",
       "      <td>1.000000</td>\n",
       "      <td>0.000000</td>\n",
       "      <td>0.044459</td>\n",
       "      <td>0.000000</td>\n",
       "      <td>1.197890</td>\n",
       "      <td>1.554938e+00</td>\n",
       "      <td>0.022183</td>\n",
       "      <td>0.022183</td>\n",
       "      <td>0.000000</td>\n",
       "      <td>0.000000</td>\n",
       "      <td>16.143987</td>\n",
       "      <td>18.057942</td>\n",
       "    </tr>\n",
       "    <tr>\n",
       "      <th>25%</th>\n",
       "      <td>1.394404</td>\n",
       "      <td>8.136318e+02</td>\n",
       "      <td>27.000000</td>\n",
       "      <td>0.000000</td>\n",
       "      <td>0.755629</td>\n",
       "      <td>0.000000</td>\n",
       "      <td>33.843800</td>\n",
       "      <td>2.737770e+01</td>\n",
       "      <td>0.399999</td>\n",
       "      <td>0.333225</td>\n",
       "      <td>0.000000</td>\n",
       "      <td>0.000000</td>\n",
       "      <td>351.620535</td>\n",
       "      <td>25.266134</td>\n",
       "    </tr>\n",
       "    <tr>\n",
       "      <th>50%</th>\n",
       "      <td>11.613803</td>\n",
       "      <td>4.930482e+03</td>\n",
       "      <td>28.000000</td>\n",
       "      <td>0.034734</td>\n",
       "      <td>1.711077</td>\n",
       "      <td>0.000000</td>\n",
       "      <td>67.366295</td>\n",
       "      <td>8.905770e+01</td>\n",
       "      <td>0.710898</td>\n",
       "      <td>0.635705</td>\n",
       "      <td>0.022222</td>\n",
       "      <td>0.000000</td>\n",
       "      <td>682.943866</td>\n",
       "      <td>28.543826</td>\n",
       "    </tr>\n",
       "    <tr>\n",
       "      <th>75%</th>\n",
       "      <td>34.494953</td>\n",
       "      <td>3.940357e+04</td>\n",
       "      <td>30.000000</td>\n",
       "      <td>0.451350</td>\n",
       "      <td>5.845619</td>\n",
       "      <td>0.022229</td>\n",
       "      <td>221.314810</td>\n",
       "      <td>5.613814e+02</td>\n",
       "      <td>1.555063</td>\n",
       "      <td>1.711155</td>\n",
       "      <td>0.088887</td>\n",
       "      <td>0.000000</td>\n",
       "      <td>1356.673217</td>\n",
       "      <td>30.969542</td>\n",
       "    </tr>\n",
       "    <tr>\n",
       "      <th>max</th>\n",
       "      <td>1795.316255</td>\n",
       "      <td>4.677280e+06</td>\n",
       "      <td>51.000000</td>\n",
       "      <td>25.246148</td>\n",
       "      <td>1064.819285</td>\n",
       "      <td>831.503948</td>\n",
       "      <td>98097.784300</td>\n",
       "      <td>4.812144e+06</td>\n",
       "      <td>1118.878021</td>\n",
       "      <td>3183.701036</td>\n",
       "      <td>475.031124</td>\n",
       "      <td>2.955622</td>\n",
       "      <td>98031.408630</td>\n",
       "      <td>46.784800</td>\n",
       "    </tr>\n",
       "  </tbody>\n",
       "</table>\n",
       "</div>"
      ],
      "text/plain": [
       "       I/O Data Operations   I/O Data Bytes  Number of subprocesses  \\\n",
       "count          8908.000000     8.908000e+03             8908.000000   \n",
       "mean             36.429205     1.135564e+05               29.811900   \n",
       "std              75.884647     4.896846e+05                5.691411   \n",
       "min               0.000000     0.000000e+00                1.000000   \n",
       "25%               1.394404     8.136318e+02               27.000000   \n",
       "50%              11.613803     4.930482e+03               28.000000   \n",
       "75%              34.494953     3.940357e+04               30.000000   \n",
       "max            1795.316255     4.677280e+06               51.000000   \n",
       "\n",
       "       Time on processor  Disk Reading/sec  Disc Writing/sec  Bytes Sent/sent  \\\n",
       "count        8908.000000       8908.000000       8908.000000      8908.000000   \n",
       "mean            0.496405          5.353260          1.046153       559.546628   \n",
       "std             1.593626         19.286690         15.667814      1939.745234   \n",
       "min             0.000000          0.044459          0.000000         1.197890   \n",
       "25%             0.000000          0.755629          0.000000        33.843800   \n",
       "50%             0.034734          1.711077          0.000000        67.366295   \n",
       "75%             0.451350          5.845619          0.022229       221.314810   \n",
       "max            25.246148       1064.819285        831.503948     98097.784300   \n",
       "\n",
       "       Received Bytes (HTTP)  Network packets sent  Network packets received  \\\n",
       "count           8.908000e+03           8908.000000               8908.000000   \n",
       "mean            1.655804e+04              4.795485                 12.625792   \n",
       "std             9.042803e+04             20.797585                 61.246541   \n",
       "min             1.554938e+00              0.022183                  0.022183   \n",
       "25%             2.737770e+01              0.399999                  0.333225   \n",
       "50%             8.905770e+01              0.710898                  0.635705   \n",
       "75%             5.613814e+02              1.555063                  1.711155   \n",
       "max             4.812144e+06           1118.878021               3183.701036   \n",
       "\n",
       "       Pages Read/sec  Pages Input/sec  Page Errors/sec  Confirmed byte radius  \n",
       "count     8908.000000      8908.000000      8908.000000            8908.000000  \n",
       "mean         0.988036         0.004177      2779.178084              28.436192  \n",
       "std         12.495768         0.082923      4996.003166               3.970140  \n",
       "min          0.000000         0.000000        16.143987              18.057942  \n",
       "25%          0.000000         0.000000       351.620535              25.266134  \n",
       "50%          0.022222         0.000000       682.943866              28.543826  \n",
       "75%          0.088887         0.000000      1356.673217              30.969542  \n",
       "max        475.031124         2.955622     98031.408630              46.784800  "
      ]
     },
     "execution_count": 9,
     "metadata": {},
     "output_type": "execute_result"
    }
   ],
   "source": [
    "train_df.drop(\"Label\", axis=1).describe()"
   ]
  },
  {
   "cell_type": "code",
   "execution_count": 10,
   "id": "d0ee3401",
   "metadata": {},
   "outputs": [
    {
     "data": {
      "text/plain": [
       "<AxesSubplot:>"
      ]
     },
     "execution_count": 10,
     "metadata": {},
     "output_type": "execute_result"
    },
    {
     "data": {
      "image/png": "[encoded data removed]",
      "text/plain": [
       "<Figure size 432x288 with 1 Axes>"
      ]
     },
     "metadata": {
      "needs_background": "light"
     },
     "output_type": "display_data"
    }
   ],
   "source": [
    "train_df[\"Label\"].value_counts().plot(kind=\"bar\")"
   ]
  },
  {
   "cell_type": "code",
   "execution_count": 11,
   "id": "b814a2fa",
   "metadata": {},
   "outputs": [
    {
     "data": {
      "image/png": "[encoded data removed]",
      "text/plain": [
       "<Figure size 864x576 with 2 Axes>"
      ]
     },
     "metadata": {
      "needs_background": "light"
     },
     "output_type": "display_data"
    }
   ],
   "source": [
    "#correlations between the features\n",
    "cm = train_df.corr()\n",
    "plt.figure(figsize=(12,8))\n",
    "sns.heatmap(cm,fmt=\".2g\", cmap=\"RdYlBu_r\", annot=True)\n",
    "plt.title(\"Correlations Between Variables\", size=18)\n",
    "plt.show()"
   ]
  },
  {
   "cell_type": "code",
   "execution_count": 25,
   "id": "6678768b",
   "metadata": {},
   "outputs": [
    {
     "name": "stdout",
     "output_type": "stream",
     "text": [
      "The shape of the fearure variables is (8908, 12)\n",
      "The shape of the target variable is (8908,)\n"
     ]
    }
   ],
   "source": [
    "X = train_df.drop([\"ID\",\"Label\",\"Disc Writing/sec\",\"Bytes Sent/sent\"], axis=1)\n",
    "y = train_df[\"Label\"]\n",
    "print(f\"The shape of the fearure variables is {X.shape}\")\n",
    "print(f\"The shape of the target variable is {y.shape}\")"
   ]
  },
  {
   "cell_type": "code",
   "execution_count": 38,
   "id": "eeb3c7f2",
   "metadata": {},
   "outputs": [],
   "source": [
    "X_train = X[:7126]\n",
    "X_test = X[7126:]\n",
    "y_train = y[:7126]\n",
    "y_test = y[7126:]"
   ]
  },
  {
   "cell_type": "code",
   "execution_count": 27,
   "id": "fd5fe26e",
   "metadata": {},
   "outputs": [],
   "source": [
    "#X_train, X_test, y_train, y_test = train_test_split(X, y,\n",
    "#                                                    stratify=y, #to account for class imbalance\n",
    " #                                                   test_size=0.3,\n",
    "#                                                    random_state=0)"
   ]
  },
  {
   "cell_type": "code",
   "execution_count": 39,
   "id": "c728d7ed",
   "metadata": {},
   "outputs": [
    {
     "name": "stdout",
     "output_type": "stream",
     "text": [
      "The shape of X-train (7126, 12)\n",
      "The shape of X-test (1782, 12)\n",
      "The shape of Y-train (7126,)\n",
      "The shape of Y-test (1782,)\n"
     ]
    }
   ],
   "source": [
    "print(f\"The shape of X-train {X_train.shape}\")\n",
    "print(f\"The shape of X-test {X_test.shape}\")\n",
    "print(f\"The shape of Y-train {y_train.shape}\")\n",
    "print(f\"The shape of Y-test {y_test.shape}\")"
   ]
  },
  {
   "cell_type": "code",
   "execution_count": 40,
   "id": "bec7301f",
   "metadata": {},
   "outputs": [
    {
     "name": "stdout",
     "output_type": "stream",
     "text": [
      "[0.23599358 0.11384021 0.15141121 0.08562497 0.07894128 0.04879154\n",
      " 0.0378113  0.03985794 0.02536752 0.00068438 0.07738295 0.10429312]\n"
     ]
    }
   ],
   "source": [
    "etr = ExtraTreesRegressor()\n",
    "etr.fit(X_train,y_train)\n",
    "print(etr.feature_importances_)"
   ]
  },
  {
   "cell_type": "code",
   "execution_count": 41,
   "id": "73981d91",
   "metadata": {},
   "outputs": [
    {
     "data": {
      "image/png": "[encoded data removed]",
      "text/plain": [
       "<Figure size 432x288 with 1 Axes>"
      ]
     },
     "metadata": {
      "needs_background": "light"
     },
     "output_type": "display_data"
    }
   ],
   "source": [
    "#show how important each of the features are\n",
    "importances = pd.Series(etr.feature_importances_, index=X.columns)\n",
    "importances.nlargest(5).plot(kind='barh')\n",
    "plt.show()"
   ]
  },
  {
   "cell_type": "code",
   "execution_count": 42,
   "id": "d0d44e5c",
   "metadata": {},
   "outputs": [],
   "source": [
    "sc=StandardScaler()\n",
    "X_train=sc.fit_transform(X_train)\n",
    "X_test=sc.fit_transform(X_test)"
   ]
  },
  {
   "cell_type": "code",
   "execution_count": 85,
   "id": "a3f9baed",
   "metadata": {},
   "outputs": [
    {
     "name": "stderr",
     "output_type": "stream",
     "text": [
      "C:\\Users\\OWNER1\\anaconda3\\lib\\site-packages\\xgboost\\sklearn.py:1224: UserWarning: The use of label encoder in XGBClassifier is deprecated and will be removed in a future release. To remove this warning, do the following: 1) Pass option use_label_encoder=False when constructing XGBClassifier object; and 2) Encode your labels (y) as integers starting with 0, i.e. 0, 1, 2, ..., [num_class - 1].\n",
      "  warnings.warn(label_encoder_deprecation_msg, UserWarning)\n"
     ]
    },
    {
     "name": "stdout",
     "output_type": "stream",
     "text": [
      "[02:31:48] WARNING: C:/Users/Administrator/workspace/xgboost-win64_release_1.5.1/src/learner.cc:1115: Starting in XGBoost 1.3.0, the default evaluation metric used with the objective 'binary:logistic' was changed from 'error' to 'logloss'. Explicitly set eval_metric if you'd like to restore the old behavior.\n"
     ]
    }
   ],
   "source": [
    "model = XGBClassifier(n_estimators=1000,max_depth=7,eta=0.1,subsample=0.7,colsample_bytree=0.8)\n",
    "model.fit(X_train, y_train)"
   ]
  },
  {
   "cell_type": "code",
   "execution_count": 86,
   "id": "b52476ed",
   "metadata": {},
   "outputs": [],
   "source": [
    "y_pred = model.predict(X_test)"
   ]
  },
  {
   "cell_type": "code",
   "execution_count": 87,
   "id": "f0e30d44",
   "metadata": {},
   "outputs": [
    {
     "name": "stdout",
     "output_type": "stream",
     "text": [
      "              precision    recall  f1-score   support\n",
      "\n",
      "           0       0.91      0.93      0.92      1295\n",
      "           1       0.80      0.76      0.78       487\n",
      "\n",
      "    accuracy                           0.88      1782\n",
      "   macro avg       0.86      0.85      0.85      1782\n",
      "weighted avg       0.88      0.88      0.88      1782\n",
      "\n"
     ]
    }
   ],
   "source": [
    "print(classification_report(y_test, y_pred))"
   ]
  },
  {
   "cell_type": "code",
   "execution_count": 88,
   "id": "a5a95073",
   "metadata": {},
   "outputs": [
    {
     "name": "stderr",
     "output_type": "stream",
     "text": [
      "C:\\Users\\OWNER1\\anaconda3\\lib\\site-packages\\xgboost\\data.py:262: FutureWarning: pandas.Int64Index is deprecated and will be removed from pandas in a future version. Use pandas.Index with the appropriate dtype instead.\n",
      "  elif isinstance(data.columns, (pd.Int64Index, pd.RangeIndex)):\n"
     ]
    },
    {
     "data": {
      "text/html": [
       "<div>\n",
       "<style scoped>\n",
       "    .dataframe tbody tr th:only-of-type {\n",
       "        vertical-align: middle;\n",
       "    }\n",
       "\n",
       "    .dataframe tbody tr th {\n",
       "        vertical-align: top;\n",
       "    }\n",
       "\n",
       "    .dataframe thead th {\n",
       "        text-align: right;\n",
       "    }\n",
       "</style>\n",
       "<table border=\"1\" class=\"dataframe\">\n",
       "  <thead>\n",
       "    <tr style=\"text-align: right;\">\n",
       "      <th></th>\n",
       "      <th>ID</th>\n",
       "      <th>Target</th>\n",
       "    </tr>\n",
       "  </thead>\n",
       "  <tbody>\n",
       "    <tr>\n",
       "      <th>0</th>\n",
       "      <td>ID_L7RNFK5JC9</td>\n",
       "      <td>0</td>\n",
       "    </tr>\n",
       "    <tr>\n",
       "      <th>1</th>\n",
       "      <td>ID_KUTY5K1G5F</td>\n",
       "      <td>0</td>\n",
       "    </tr>\n",
       "    <tr>\n",
       "      <th>2</th>\n",
       "      <td>ID_H6PJWKU831</td>\n",
       "      <td>1</td>\n",
       "    </tr>\n",
       "    <tr>\n",
       "      <th>3</th>\n",
       "      <td>ID_DNQXNVTXHE</td>\n",
       "      <td>1</td>\n",
       "    </tr>\n",
       "    <tr>\n",
       "      <th>4</th>\n",
       "      <td>ID_8CRTF1BJOD</td>\n",
       "      <td>0</td>\n",
       "    </tr>\n",
       "    <tr>\n",
       "      <th>5</th>\n",
       "      <td>ID_64UNYP0YRV</td>\n",
       "      <td>0</td>\n",
       "    </tr>\n",
       "    <tr>\n",
       "      <th>6</th>\n",
       "      <td>ID_95RLFN8W6P</td>\n",
       "      <td>1</td>\n",
       "    </tr>\n",
       "    <tr>\n",
       "      <th>7</th>\n",
       "      <td>ID_U9FLCVO4L7</td>\n",
       "      <td>0</td>\n",
       "    </tr>\n",
       "    <tr>\n",
       "      <th>8</th>\n",
       "      <td>ID_MNP4PY97YF</td>\n",
       "      <td>0</td>\n",
       "    </tr>\n",
       "    <tr>\n",
       "      <th>9</th>\n",
       "      <td>ID_LVPPC2KF9A</td>\n",
       "      <td>1</td>\n",
       "    </tr>\n",
       "  </tbody>\n",
       "</table>\n",
       "</div>"
      ],
      "text/plain": [
       "              ID  Target\n",
       "0  ID_L7RNFK5JC9       0\n",
       "1  ID_KUTY5K1G5F       0\n",
       "2  ID_H6PJWKU831       1\n",
       "3  ID_DNQXNVTXHE       1\n",
       "4  ID_8CRTF1BJOD       0\n",
       "5  ID_64UNYP0YRV       0\n",
       "6  ID_95RLFN8W6P       1\n",
       "7  ID_U9FLCVO4L7       0\n",
       "8  ID_MNP4PY97YF       0\n",
       "9  ID_LVPPC2KF9A       1"
      ]
     },
     "execution_count": 88,
     "metadata": {},
     "output_type": "execute_result"
    }
   ],
   "source": [
    "submission = pd.DataFrame({\"ID\": test_df[\"ID\"], \"Target\": model.predict(test_df.drop([\"ID\",\"Disc Writing/sec\",\"Bytes Sent/sent\"], axis=1))})\n",
    "submission[\"Target\"]= submission[\"Target\"].astype(\"int64\")\n",
    "submission.head(10)"
   ]
  },
  {
   "cell_type": "code",
   "execution_count": 89,
   "id": "283f20f9",
   "metadata": {},
   "outputs": [],
   "source": [
    "submission.to_csv(\"submission.csv\", index=False)"
   ]
  },
  {
   "cell_type": "code",
   "execution_count": null,
   "id": "01e42e4e",
   "metadata": {},
   "outputs": [],
   "source": []
  }
 ],
 "metadata": {
  "kernelspec": {
   "display_name": "Python 3 (ipykernel)",
   "language": "python",
   "name": "python3"
  },
  "language_info": {
   "codemirror_mode": {
    "name": "ipython",
    "version": 3
   },
   "file_extension": ".py",
   "mimetype": "text/x-python",
   "name": "python",
   "nbconvert_exporter": "python",
   "pygments_lexer": "ipython3",
   "version": "3.9.7"
  }
 },
 "nbformat": 4,
 "nbformat_minor": 5
}
